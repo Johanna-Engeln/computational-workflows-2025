{
 "cells": [
  {
   "cell_type": "markdown",
   "metadata": {},
   "source": [
    "# Day 6 - Nextflow Basics: Introduction to channels and operators"
   ]
  },
  {
   "cell_type": "markdown",
   "metadata": {},
   "source": [
    "Today, we will begin exploring Nextflow, the programming language that powers the advanced nf-core pipelines you worked with last week. Your task is to dive into the core concepts and syntax of Nextflow, understanding how this language enables the development of scalable and reproducible workflows.\n",
    "\n",
    "Nextflow works quite differently from traditional programming languages like Python or Java that you may already be familiar with. To get started, it is essential to understand the foundational concepts that set Nextflow apart."
   ]
  },
  {
   "cell_type": "markdown",
   "metadata": {},
   "source": [
    "### 1. Describe the concept of Workflows, Processes and Channels we deal with in Nextflow"
   ]
  },
  {
   "cell_type": "markdown",
   "metadata": {},
   "source": [
    "Workflows: A workflow is a function for composing processes and dataflow logic. It is kind of the overall structure which connectes everything and controls how the data flows.  \n",
    "\n",
    "\n",
    "\n",
    "\n",
    "Processes: A process is a function to execut scripts in a scalable and portable manner. Multiple processes can run in parallel in a workflow. \n",
    "\n",
    "\n",
    "\n",
    "\n",
    "Channels: A channel connects the processes in a pipline/workflow. It passes over the data from one process to the next.  "
   ]
  },
  {
   "cell_type": "markdown",
   "metadata": {},
   "source": [
    "## Introduction to channels\n",
    "\n",
    "Please refer to the file  $\\texttt{channels\\_intro.nf}$ for the next exercises. Then run the code with the respective flag here below. "
   ]
  },
  {
   "cell_type": "code",
   "execution_count": 1,
   "metadata": {},
   "outputs": [
    {
     "name": "stdout",
     "output_type": "stream",
     "text": [
      "\u001b[33mNextflow 25.04.7 is available - Please consider updating your version to it\u001b[m\n",
      "\n",
      "\u001b[1m\u001b[38;5;232m\u001b[48;5;43m N E X T F L O W \u001b[0;2m  ~  \u001b[mversion 25.04.0\u001b[m\n",
      "\u001b[K\n",
      "Launching\u001b[35m `channels_intro.nf` \u001b[0;2m[\u001b[0;1;36mgrave_hugle\u001b[0;2m] DSL2 - \u001b[36mrevision: \u001b[0;36me2c86b6f38\u001b[m\n",
      "\u001b[K\n",
      "1\n",
      "2\n",
      "3\n",
      "4\n",
      "5\n",
      "6\n",
      "7\n",
      "8\n",
      "9\n",
      "10\n"
     ]
    }
   ],
   "source": [
    "# Task 1 - Create a channel that enumerates the numbers from 1 to 10\n",
    "!nextflow run channels_intro.nf --step 1"
   ]
  },
  {
   "cell_type": "code",
   "execution_count": 2,
   "metadata": {},
   "outputs": [
    {
     "name": "stdout",
     "output_type": "stream",
     "text": [
      "\u001b[33mNextflow 25.04.7 is available - Please consider updating your version to it\u001b[m\n",
      "\n",
      "\u001b[1m\u001b[38;5;232m\u001b[48;5;43m N E X T F L O W \u001b[0;2m  ~  \u001b[mversion 25.04.0\u001b[m\n",
      "\u001b[K\n",
      "Launching\u001b[35m `channels_intro.nf` \u001b[0;2m[\u001b[0;1;36mtender_lorenz\u001b[0;2m] DSL2 - \u001b[36mrevision: \u001b[0;36me2c86b6f38\u001b[m\n",
      "\u001b[K\n",
      "A\n",
      "B\n",
      "C\n",
      "D\n",
      "E\n",
      "F\n",
      "G\n",
      "H\n",
      "I\n",
      "J\n",
      "K\n",
      "L\n",
      "M\n",
      "N\n",
      "O\n",
      "P\n",
      "Q\n",
      "R\n",
      "S\n",
      "T\n",
      "U\n",
      "V\n",
      "W\n",
      "X\n",
      "Y\n",
      "Z\n"
     ]
    }
   ],
   "source": [
    "# Task 2 - Create a channel that gives out the entire alphabet\n",
    "!nextflow run channels_intro.nf --step 2"
   ]
  },
  {
   "cell_type": "code",
   "execution_count": 3,
   "metadata": {},
   "outputs": [
    {
     "name": "stdout",
     "output_type": "stream",
     "text": [
      "\u001b[33mNextflow 25.04.7 is available - Please consider updating your version to it\u001b[m\n",
      "\n",
      "\u001b[1m\u001b[38;5;232m\u001b[48;5;43m N E X T F L O W \u001b[0;2m  ~  \u001b[mversion 25.04.0\u001b[m\n",
      "\u001b[K\n",
      "Launching\u001b[35m `channels_intro.nf` \u001b[0;2m[\u001b[0;1;36mmighty_fermat\u001b[0;2m] DSL2 - \u001b[36mrevision: \u001b[0;36me2c86b6f38\u001b[m\n",
      "\u001b[K\n",
      "/mnt/c/Users/Johanna/Documents/Studium_Tübingen/2_Semester/computational-workflows-2025/notebooks/day_04/files_dir/fastq.fq\n",
      "/mnt/c/Users/Johanna/Documents/Studium_Tübingen/2_Semester/computational-workflows-2025/notebooks/day_04/files_dir/fastq1_1.fq\n",
      "/mnt/c/Users/Johanna/Documents/Studium_Tübingen/2_Semester/computational-workflows-2025/notebooks/day_04/files_dir/fastq1_2.fq\n",
      "/mnt/c/Users/Johanna/Documents/Studium_Tübingen/2_Semester/computational-workflows-2025/notebooks/day_04/files_dir/fastq2_1.fq\n",
      "/mnt/c/Users/Johanna/Documents/Studium_Tübingen/2_Semester/computational-workflows-2025/notebooks/day_04/files_dir/fastq2_2.fq\n",
      "/mnt/c/Users/Johanna/Documents/Studium_Tübingen/2_Semester/computational-workflows-2025/notebooks/day_04/files_dir/fastq3_1.fq\n",
      "/mnt/c/Users/Johanna/Documents/Studium_Tübingen/2_Semester/computational-workflows-2025/notebooks/day_04/files_dir/fastq3_2.fq\n",
      "/mnt/c/Users/Johanna/Documents/Studium_Tübingen/2_Semester/computational-workflows-2025/notebooks/day_04/files_dir/fastq4_1.fq\n",
      "/mnt/c/Users/Johanna/Documents/Studium_Tübingen/2_Semester/computational-workflows-2025/notebooks/day_04/files_dir/fastq4_2.fq\n",
      "/mnt/c/Users/Johanna/Documents/Studium_Tübingen/2_Semester/computational-workflows-2025/notebooks/day_04/files_dir/fastq5_1.fq\n",
      "/mnt/c/Users/Johanna/Documents/Studium_Tübingen/2_Semester/computational-workflows-2025/notebooks/day_04/files_dir/fastq5_2.fq\n",
      "/mnt/c/Users/Johanna/Documents/Studium_Tübingen/2_Semester/computational-workflows-2025/notebooks/day_04/files_dir/fastq_1.fq\n",
      "/mnt/c/Users/Johanna/Documents/Studium_Tübingen/2_Semester/computational-workflows-2025/notebooks/day_04/files_dir/fastq_2.fq\n",
      "/mnt/c/Users/Johanna/Documents/Studium_Tübingen/2_Semester/computational-workflows-2025/notebooks/day_04/files_dir/file_1.txt\n",
      "/mnt/c/Users/Johanna/Documents/Studium_Tübingen/2_Semester/computational-workflows-2025/notebooks/day_04/files_dir/file_2.txt\n",
      "/mnt/c/Users/Johanna/Documents/Studium_Tübingen/2_Semester/computational-workflows-2025/notebooks/day_04/files_dir/file_3.txt\n",
      "/mnt/c/Users/Johanna/Documents/Studium_Tübingen/2_Semester/computational-workflows-2025/notebooks/day_04/files_dir/file_4.txt\n",
      "/mnt/c/Users/Johanna/Documents/Studium_Tübingen/2_Semester/computational-workflows-2025/notebooks/day_04/files_dir/file_5.txt\n",
      "/mnt/c/Users/Johanna/Documents/Studium_Tübingen/2_Semester/computational-workflows-2025/notebooks/day_04/files_dir/SRR.fq\n",
      "/mnt/c/Users/Johanna/Documents/Studium_Tübingen/2_Semester/computational-workflows-2025/notebooks/day_04/files_dir/SRR1_1.fq\n",
      "/mnt/c/Users/Johanna/Documents/Studium_Tübingen/2_Semester/computational-workflows-2025/notebooks/day_04/files_dir/SRR1_2.fq\n",
      "/mnt/c/Users/Johanna/Documents/Studium_Tübingen/2_Semester/computational-workflows-2025/notebooks/day_04/files_dir/SRR2_1.fq\n",
      "/mnt/c/Users/Johanna/Documents/Studium_Tübingen/2_Semester/computational-workflows-2025/notebooks/day_04/files_dir/SRR2_2.fq\n",
      "/mnt/c/Users/Johanna/Documents/Studium_Tübingen/2_Semester/computational-workflows-2025/notebooks/day_04/files_dir/SRR3_1.fq\n",
      "/mnt/c/Users/Johanna/Documents/Studium_Tübingen/2_Semester/computational-workflows-2025/notebooks/day_04/files_dir/SRR3_2.fq\n",
      "/mnt/c/Users/Johanna/Documents/Studium_Tübingen/2_Semester/computational-workflows-2025/notebooks/day_04/files_dir/SRR4_1.fq\n",
      "/mnt/c/Users/Johanna/Documents/Studium_Tübingen/2_Semester/computational-workflows-2025/notebooks/day_04/files_dir/SRR4_2.fq\n",
      "/mnt/c/Users/Johanna/Documents/Studium_Tübingen/2_Semester/computational-workflows-2025/notebooks/day_04/files_dir/SRR5_1.fq\n",
      "/mnt/c/Users/Johanna/Documents/Studium_Tübingen/2_Semester/computational-workflows-2025/notebooks/day_04/files_dir/SRR5_2.fq\n"
     ]
    }
   ],
   "source": [
    "# Task 3 - Create a channel that includes all files in the \"files_dir\" directory\n",
    "!nextflow run channels_intro.nf --step 3"
   ]
  },
  {
   "cell_type": "code",
   "execution_count": 4,
   "metadata": {},
   "outputs": [
    {
     "name": "stdout",
     "output_type": "stream",
     "text": [
      "\u001b[33mNextflow 25.04.7 is available - Please consider updating your version to it\u001b[m\n",
      "\n",
      "\u001b[1m\u001b[38;5;232m\u001b[48;5;43m N E X T F L O W \u001b[0;2m  ~  \u001b[mversion 25.04.0\u001b[m\n",
      "\u001b[K\n",
      "Launching\u001b[35m `channels_intro.nf` \u001b[0;2m[\u001b[0;1;36mawesome_crick\u001b[0;2m] DSL2 - \u001b[36mrevision: \u001b[0;36me2c86b6f38\u001b[m\n",
      "\u001b[K\n",
      "/mnt/c/Users/Johanna/Documents/Studium_Tübingen/2_Semester/computational-workflows-2025/notebooks/day_04/files_dir/file_1.txt\n",
      "/mnt/c/Users/Johanna/Documents/Studium_Tübingen/2_Semester/computational-workflows-2025/notebooks/day_04/files_dir/file_2.txt\n",
      "/mnt/c/Users/Johanna/Documents/Studium_Tübingen/2_Semester/computational-workflows-2025/notebooks/day_04/files_dir/file_3.txt\n",
      "/mnt/c/Users/Johanna/Documents/Studium_Tübingen/2_Semester/computational-workflows-2025/notebooks/day_04/files_dir/file_4.txt\n",
      "/mnt/c/Users/Johanna/Documents/Studium_Tübingen/2_Semester/computational-workflows-2025/notebooks/day_04/files_dir/file_5.txt\n"
     ]
    }
   ],
   "source": [
    "# Task 4 - Create a channel that includes all TXT files in the \"files_dir\" directory\n",
    "!nextflow run channels_intro.nf --step 4"
   ]
  },
  {
   "cell_type": "code",
   "execution_count": 5,
   "metadata": {},
   "outputs": [
    {
     "name": "stdout",
     "output_type": "stream",
     "text": [
      "\u001b[33mNextflow 25.04.7 is available - Please consider updating your version to it\u001b[m\n",
      "\n",
      "\u001b[1m\u001b[38;5;232m\u001b[48;5;43m N E X T F L O W \u001b[0;2m  ~  \u001b[mversion 25.04.0\u001b[m\n",
      "\u001b[K\n",
      "Launching\u001b[35m `channels_intro.nf` \u001b[0;2m[\u001b[0;1;36mcurious_wescoff\u001b[0;2m] DSL2 - \u001b[36mrevision: \u001b[0;36me2c86b6f38\u001b[m\n",
      "\u001b[K\n",
      "/mnt/c/Users/Johanna/Documents/Studium_Tübingen/2_Semester/computational-workflows-2025/notebooks/day_04/files_dir/fastq_1\n",
      "/mnt/c/Users/Johanna/Documents/Studium_Tübingen/2_Semester/computational-workflows-2025/notebooks/day_04/files_dir/fastq_2\n"
     ]
    }
   ],
   "source": [
    "# Task 5 - Create a channel that includes the files \"fastq_1.fq\" and \"fastq_2.fq\" in the \"files_dir\" directory\n",
    "!nextflow run channels_intro.nf --step 5"
   ]
  },
  {
   "cell_type": "code",
   "execution_count": 6,
   "metadata": {},
   "outputs": [
    {
     "name": "stdout",
     "output_type": "stream",
     "text": [
      "\u001b[33mNextflow 25.04.7 is available - Please consider updating your version to it\u001b[m\n",
      "\n",
      "\u001b[1m\u001b[38;5;232m\u001b[48;5;43m N E X T F L O W \u001b[0;2m  ~  \u001b[mversion 25.04.0\u001b[m\n",
      "\u001b[K\n",
      "Launching\u001b[35m `channels_intro.nf` \u001b[0;2m[\u001b[0;1;36mmad_gauss\u001b[0;2m] DSL2 - \u001b[36mrevision: \u001b[0;36me2c86b6f38\u001b[m\n",
      "\u001b[K\n",
      "/mnt/c/Users/Johanna/Documents/Studium_Tübingen/2_Semester/computational-workflows-2025/notebooks/day_04/files_dir/.hidden_1.txt\n",
      "/mnt/c/Users/Johanna/Documents/Studium_Tübingen/2_Semester/computational-workflows-2025/notebooks/day_04/files_dir/.hidden_2.txt\n",
      "/mnt/c/Users/Johanna/Documents/Studium_Tübingen/2_Semester/computational-workflows-2025/notebooks/day_04/files_dir/fastq.fq\n",
      "/mnt/c/Users/Johanna/Documents/Studium_Tübingen/2_Semester/computational-workflows-2025/notebooks/day_04/files_dir/fastq1_1.fq\n",
      "/mnt/c/Users/Johanna/Documents/Studium_Tübingen/2_Semester/computational-workflows-2025/notebooks/day_04/files_dir/fastq1_2.fq\n",
      "/mnt/c/Users/Johanna/Documents/Studium_Tübingen/2_Semester/computational-workflows-2025/notebooks/day_04/files_dir/fastq2_1.fq\n",
      "/mnt/c/Users/Johanna/Documents/Studium_Tübingen/2_Semester/computational-workflows-2025/notebooks/day_04/files_dir/fastq2_2.fq\n",
      "/mnt/c/Users/Johanna/Documents/Studium_Tübingen/2_Semester/computational-workflows-2025/notebooks/day_04/files_dir/fastq3_1.fq\n",
      "/mnt/c/Users/Johanna/Documents/Studium_Tübingen/2_Semester/computational-workflows-2025/notebooks/day_04/files_dir/fastq3_2.fq\n",
      "/mnt/c/Users/Johanna/Documents/Studium_Tübingen/2_Semester/computational-workflows-2025/notebooks/day_04/files_dir/fastq4_1.fq\n",
      "/mnt/c/Users/Johanna/Documents/Studium_Tübingen/2_Semester/computational-workflows-2025/notebooks/day_04/files_dir/fastq4_2.fq\n",
      "/mnt/c/Users/Johanna/Documents/Studium_Tübingen/2_Semester/computational-workflows-2025/notebooks/day_04/files_dir/fastq5_1.fq\n",
      "/mnt/c/Users/Johanna/Documents/Studium_Tübingen/2_Semester/computational-workflows-2025/notebooks/day_04/files_dir/fastq5_2.fq\n",
      "/mnt/c/Users/Johanna/Documents/Studium_Tübingen/2_Semester/computational-workflows-2025/notebooks/day_04/files_dir/fastq_1.fq\n",
      "/mnt/c/Users/Johanna/Documents/Studium_Tübingen/2_Semester/computational-workflows-2025/notebooks/day_04/files_dir/fastq_2.fq\n",
      "/mnt/c/Users/Johanna/Documents/Studium_Tübingen/2_Semester/computational-workflows-2025/notebooks/day_04/files_dir/file_1.txt\n",
      "/mnt/c/Users/Johanna/Documents/Studium_Tübingen/2_Semester/computational-workflows-2025/notebooks/day_04/files_dir/file_2.txt\n",
      "/mnt/c/Users/Johanna/Documents/Studium_Tübingen/2_Semester/computational-workflows-2025/notebooks/day_04/files_dir/file_3.txt\n",
      "/mnt/c/Users/Johanna/Documents/Studium_Tübingen/2_Semester/computational-workflows-2025/notebooks/day_04/files_dir/file_4.txt\n",
      "/mnt/c/Users/Johanna/Documents/Studium_Tübingen/2_Semester/computational-workflows-2025/notebooks/day_04/files_dir/file_5.txt\n",
      "/mnt/c/Users/Johanna/Documents/Studium_Tübingen/2_Semester/computational-workflows-2025/notebooks/day_04/files_dir/SRR.fq\n",
      "/mnt/c/Users/Johanna/Documents/Studium_Tübingen/2_Semester/computational-workflows-2025/notebooks/day_04/files_dir/SRR1_1.fq\n",
      "/mnt/c/Users/Johanna/Documents/Studium_Tübingen/2_Semester/computational-workflows-2025/notebooks/day_04/files_dir/SRR1_2.fq\n",
      "/mnt/c/Users/Johanna/Documents/Studium_Tübingen/2_Semester/computational-workflows-2025/notebooks/day_04/files_dir/SRR2_1.fq\n",
      "/mnt/c/Users/Johanna/Documents/Studium_Tübingen/2_Semester/computational-workflows-2025/notebooks/day_04/files_dir/SRR2_2.fq\n",
      "/mnt/c/Users/Johanna/Documents/Studium_Tübingen/2_Semester/computational-workflows-2025/notebooks/day_04/files_dir/SRR3_1.fq\n",
      "/mnt/c/Users/Johanna/Documents/Studium_Tübingen/2_Semester/computational-workflows-2025/notebooks/day_04/files_dir/SRR3_2.fq\n",
      "/mnt/c/Users/Johanna/Documents/Studium_Tübingen/2_Semester/computational-workflows-2025/notebooks/day_04/files_dir/SRR4_1.fq\n",
      "/mnt/c/Users/Johanna/Documents/Studium_Tübingen/2_Semester/computational-workflows-2025/notebooks/day_04/files_dir/SRR4_2.fq\n",
      "/mnt/c/Users/Johanna/Documents/Studium_Tübingen/2_Semester/computational-workflows-2025/notebooks/day_04/files_dir/SRR5_1.fq\n",
      "/mnt/c/Users/Johanna/Documents/Studium_Tübingen/2_Semester/computational-workflows-2025/notebooks/day_04/files_dir/SRR5_2.fq\n"
     ]
    }
   ],
   "source": [
    "# Task 6 - go back to the time when you included all files. Are you sure that really ALL files are included? If not, how can you include them?\n",
    "!nextflow run channels_intro.nf --step 6"
   ]
  },
  {
   "cell_type": "code",
   "execution_count": 7,
   "metadata": {},
   "outputs": [
    {
     "name": "stdout",
     "output_type": "stream",
     "text": [
      "\u001b[33mNextflow 25.04.7 is available - Please consider updating your version to it\u001b[m\n",
      "\n",
      "\u001b[1m\u001b[38;5;232m\u001b[48;5;43m N E X T F L O W \u001b[0;2m  ~  \u001b[mversion 25.04.0\u001b[m\n",
      "\u001b[K\n",
      "Launching\u001b[35m `channels_intro.nf` \u001b[0;2m[\u001b[0;1;36mcrazy_goldstine\u001b[0;2m] DSL2 - \u001b[36mrevision: \u001b[0;36me2c86b6f38\u001b[m\n",
      "\u001b[K\n",
      "[fastq1, /mnt/c/Users/Johanna/Documents/Studium_Tübingen/2_Semester/computational-workflows-2025/notebooks/day_04/files_dir/fastq1_1.fq, /mnt/c/Users/Johanna/Documents/Studium_Tübingen/2_Semester/computational-workflows-2025/notebooks/day_04/files_dir/fastq1_2.fq]\n",
      "[fastq2, /mnt/c/Users/Johanna/Documents/Studium_Tübingen/2_Semester/computational-workflows-2025/notebooks/day_04/files_dir/fastq2_1.fq, /mnt/c/Users/Johanna/Documents/Studium_Tübingen/2_Semester/computational-workflows-2025/notebooks/day_04/files_dir/fastq2_2.fq]\n",
      "[fastq3, /mnt/c/Users/Johanna/Documents/Studium_Tübingen/2_Semester/computational-workflows-2025/notebooks/day_04/files_dir/fastq3_1.fq, /mnt/c/Users/Johanna/Documents/Studium_Tübingen/2_Semester/computational-workflows-2025/notebooks/day_04/files_dir/fastq3_2.fq]\n",
      "[fastq4, /mnt/c/Users/Johanna/Documents/Studium_Tübingen/2_Semester/computational-workflows-2025/notebooks/day_04/files_dir/fastq4_1.fq, /mnt/c/Users/Johanna/Documents/Studium_Tübingen/2_Semester/computational-workflows-2025/notebooks/day_04/files_dir/fastq4_2.fq]\n",
      "[fastq5, /mnt/c/Users/Johanna/Documents/Studium_Tübingen/2_Semester/computational-workflows-2025/notebooks/day_04/files_dir/fastq5_1.fq, /mnt/c/Users/Johanna/Documents/Studium_Tübingen/2_Semester/computational-workflows-2025/notebooks/day_04/files_dir/fastq5_2.fq]\n",
      "[fastq, /mnt/c/Users/Johanna/Documents/Studium_Tübingen/2_Semester/computational-workflows-2025/notebooks/day_04/files_dir/fastq_1.fq, /mnt/c/Users/Johanna/Documents/Studium_Tübingen/2_Semester/computational-workflows-2025/notebooks/day_04/files_dir/fastq_2.fq]\n",
      "[SRR1, /mnt/c/Users/Johanna/Documents/Studium_Tübingen/2_Semester/computational-workflows-2025/notebooks/day_04/files_dir/SRR1_1.fq, /mnt/c/Users/Johanna/Documents/Studium_Tübingen/2_Semester/computational-workflows-2025/notebooks/day_04/files_dir/SRR1_2.fq]\n",
      "[SRR2, /mnt/c/Users/Johanna/Documents/Studium_Tübingen/2_Semester/computational-workflows-2025/notebooks/day_04/files_dir/SRR2_1.fq, /mnt/c/Users/Johanna/Documents/Studium_Tübingen/2_Semester/computational-workflows-2025/notebooks/day_04/files_dir/SRR2_2.fq]\n",
      "[SRR3, /mnt/c/Users/Johanna/Documents/Studium_Tübingen/2_Semester/computational-workflows-2025/notebooks/day_04/files_dir/SRR3_1.fq, /mnt/c/Users/Johanna/Documents/Studium_Tübingen/2_Semester/computational-workflows-2025/notebooks/day_04/files_dir/SRR3_2.fq]\n",
      "[SRR4, /mnt/c/Users/Johanna/Documents/Studium_Tübingen/2_Semester/computational-workflows-2025/notebooks/day_04/files_dir/SRR4_1.fq, /mnt/c/Users/Johanna/Documents/Studium_Tübingen/2_Semester/computational-workflows-2025/notebooks/day_04/files_dir/SRR4_2.fq]\n",
      "[SRR5, /mnt/c/Users/Johanna/Documents/Studium_Tübingen/2_Semester/computational-workflows-2025/notebooks/day_04/files_dir/SRR5_1.fq, /mnt/c/Users/Johanna/Documents/Studium_Tübingen/2_Semester/computational-workflows-2025/notebooks/day_04/files_dir/SRR5_2.fq]\n"
     ]
    }
   ],
   "source": [
    "# Task 7 - get all filepairs in the \"files_dir\" directory\n",
    "!nextflow run channels_intro.nf --step 7"
   ]
  },
  {
   "cell_type": "markdown",
   "metadata": {},
   "source": [
    "## Now that you have a solid understanding of the basic concepts of channels in Nextflow, it’s time to experiment and see how they work in practice."
   ]
  },
  {
   "cell_type": "markdown",
   "metadata": {},
   "source": [
    "To do so, Nextflow has the concept of Operators to give and pass information inbetween channels.\n",
    "\n",
    "Please answer the questions in $\\texttt{basic\\_channel\\_operations.nf}$ and run the code here. "
   ]
  },
  {
   "cell_type": "code",
   "execution_count": 9,
   "metadata": {},
   "outputs": [
    {
     "name": "stdout",
     "output_type": "stream",
     "text": [
      "\u001b[33mNextflow 25.04.7 is available - Please consider updating your version to it\u001b[m\n",
      "\n",
      "\u001b[1m\u001b[38;5;232m\u001b[48;5;43m N E X T F L O W \u001b[0;2m  ~  \u001b[mversion 25.04.0\u001b[m\n",
      "\u001b[K\n",
      "Launching\u001b[35m `basic_channel_operations.nf` \u001b[0;2m[\u001b[0;1;36mdistraught_rosalind\u001b[0;2m] DSL2 - \u001b[36mrevision: \u001b[0;36m0536c88801\u001b[m\n",
      "\u001b[K\n",
      "1\n"
     ]
    }
   ],
   "source": [
    "# Task 1 - Extract the first item from the channel\n",
    "!nextflow run basic_channel_operations.nf --step 1"
   ]
  },
  {
   "cell_type": "code",
   "execution_count": 10,
   "metadata": {},
   "outputs": [
    {
     "name": "stdout",
     "output_type": "stream",
     "text": [
      "\u001b[33mNextflow 25.04.7 is available - Please consider updating your version to it\u001b[m\n",
      "\n",
      "\u001b[1m\u001b[38;5;232m\u001b[48;5;43m N E X T F L O W \u001b[0;2m  ~  \u001b[mversion 25.04.0\u001b[m\n",
      "\u001b[K\n",
      "Launching\u001b[35m `basic_channel_operations.nf` \u001b[0;2m[\u001b[0;1;36mreverent_gutenberg\u001b[0;2m] DSL2 - \u001b[36mrevision: \u001b[0;36m0536c88801\u001b[m\n",
      "\u001b[K\n",
      "3\n"
     ]
    }
   ],
   "source": [
    "# Task 2 - Extract the last item from the channel\n",
    "!nextflow run basic_channel_operations.nf --step 2"
   ]
  },
  {
   "cell_type": "code",
   "execution_count": 11,
   "metadata": {},
   "outputs": [
    {
     "name": "stdout",
     "output_type": "stream",
     "text": [
      "\u001b[33mNextflow 25.04.7 is available - Please consider updating your version to it\u001b[m\n",
      "\n",
      "\u001b[1m\u001b[38;5;232m\u001b[48;5;43m N E X T F L O W \u001b[0;2m  ~  \u001b[mversion 25.04.0\u001b[m\n",
      "\u001b[K\n",
      "Launching\u001b[35m `basic_channel_operations.nf` \u001b[0;2m[\u001b[0;1;36mdetermined_varahamihira\u001b[0;2m] DSL2 - \u001b[36mrevision: \u001b[0;36m0536c88801\u001b[m\n",
      "\u001b[K\n",
      "1\n",
      "2\n"
     ]
    }
   ],
   "source": [
    "# Task 3 - Use an operator to extract the first two items from the channel\n",
    "!nextflow run basic_channel_operations.nf --step 3"
   ]
  },
  {
   "cell_type": "code",
   "execution_count": 12,
   "metadata": {},
   "outputs": [
    {
     "name": "stdout",
     "output_type": "stream",
     "text": [
      "\u001b[33mNextflow 25.04.7 is available - Please consider updating your version to it\u001b[m\n",
      "\n",
      "\u001b[1m\u001b[38;5;232m\u001b[48;5;43m N E X T F L O W \u001b[0;2m  ~  \u001b[mversion 25.04.0\u001b[m\n",
      "\u001b[K\n",
      "Launching\u001b[35m `basic_channel_operations.nf` \u001b[0;2m[\u001b[0;1;36mdeadly_faraday\u001b[0;2m] DSL2 - \u001b[36mrevision: \u001b[0;36m0536c88801\u001b[m\n",
      "\u001b[K\n",
      "4\n",
      "9\n",
      "16\n"
     ]
    }
   ],
   "source": [
    "# Task 4 - Return the squared values of the channel\n",
    "!nextflow run basic_channel_operations.nf --step 4"
   ]
  },
  {
   "cell_type": "code",
   "execution_count": 13,
   "metadata": {},
   "outputs": [
    {
     "name": "stdout",
     "output_type": "stream",
     "text": [
      "\u001b[33mNextflow 25.04.7 is available - Please consider updating your version to it\u001b[m\n",
      "\n",
      "\u001b[1m\u001b[38;5;232m\u001b[48;5;43m N E X T F L O W \u001b[0;2m  ~  \u001b[mversion 25.04.0\u001b[m\n",
      "\u001b[K\n",
      "Launching\u001b[35m `basic_channel_operations.nf` \u001b[0;2m[\u001b[0;1;36mhigh_leibniz\u001b[0;2m] DSL2 - \u001b[36mrevision: \u001b[0;36m0536c88801\u001b[m\n",
      "\u001b[K\n",
      "4\n",
      "9\n"
     ]
    }
   ],
   "source": [
    "# Task 5 - Remember the previous task where you squared the values of the channel. Now, extract the first two items from the squared channel\n",
    "!nextflow run basic_channel_operations.nf --step 5"
   ]
  },
  {
   "cell_type": "code",
   "execution_count": 18,
   "metadata": {},
   "outputs": [
    {
     "name": "stdout",
     "output_type": "stream",
     "text": [
      "\u001b[33mNextflow 25.04.7 is available - Please consider updating your version to it\u001b[m\n",
      "\n",
      "\u001b[1m\u001b[38;5;232m\u001b[48;5;43m N E X T F L O W \u001b[0;2m  ~  \u001b[mversion 25.04.0\u001b[m\n",
      "\u001b[K\n",
      "Launching\u001b[35m `basic_channel_operations.nf` \u001b[0;2m[\u001b[0;1;36mawesome_wegener\u001b[0;2m] DSL2 - \u001b[36mrevision: \u001b[0;36mee0135396d\u001b[m\n",
      "\u001b[K\n",
      "Swift\n",
      "Taylor\n"
     ]
    }
   ],
   "source": [
    "# Task 6 - Remember when you used bash to reverse the output? Try to use map and Groovy to reverse the output\n",
    "!nextflow run basic_channel_operations.nf --step 6"
   ]
  },
  {
   "cell_type": "code",
   "execution_count": 19,
   "metadata": {},
   "outputs": [
    {
     "name": "stdout",
     "output_type": "stream",
     "text": [
      "\u001b[33mNextflow 25.04.7 is available - Please consider updating your version to it\u001b[m\n",
      "\n",
      "\u001b[1m\u001b[38;5;232m\u001b[48;5;43m N E X T F L O W \u001b[0;2m  ~  \u001b[mversion 25.04.0\u001b[m\n",
      "\u001b[K\n",
      "Launching\u001b[35m `basic_channel_operations.nf` \u001b[0;2m[\u001b[0;1;36mcheesy_payne\u001b[0;2m] DSL2 - \u001b[36mrevision: \u001b[0;36m747c898cfb\u001b[m\n",
      "\u001b[K\n",
      "[fastq.fq, /mnt/c/Users/Johanna/Documents/Studium_Tübingen/2_Semester/computational-workflows-2025/notebooks/day_04/files_dir/fastq.fq]\n",
      "[fastq1_1.fq, /mnt/c/Users/Johanna/Documents/Studium_Tübingen/2_Semester/computational-workflows-2025/notebooks/day_04/files_dir/fastq1_1.fq]\n",
      "[fastq1_2.fq, /mnt/c/Users/Johanna/Documents/Studium_Tübingen/2_Semester/computational-workflows-2025/notebooks/day_04/files_dir/fastq1_2.fq]\n",
      "[fastq2_1.fq, /mnt/c/Users/Johanna/Documents/Studium_Tübingen/2_Semester/computational-workflows-2025/notebooks/day_04/files_dir/fastq2_1.fq]\n",
      "[fastq2_2.fq, /mnt/c/Users/Johanna/Documents/Studium_Tübingen/2_Semester/computational-workflows-2025/notebooks/day_04/files_dir/fastq2_2.fq]\n",
      "[fastq3_1.fq, /mnt/c/Users/Johanna/Documents/Studium_Tübingen/2_Semester/computational-workflows-2025/notebooks/day_04/files_dir/fastq3_1.fq]\n",
      "[fastq3_2.fq, /mnt/c/Users/Johanna/Documents/Studium_Tübingen/2_Semester/computational-workflows-2025/notebooks/day_04/files_dir/fastq3_2.fq]\n",
      "[fastq4_1.fq, /mnt/c/Users/Johanna/Documents/Studium_Tübingen/2_Semester/computational-workflows-2025/notebooks/day_04/files_dir/fastq4_1.fq]\n",
      "[fastq4_2.fq, /mnt/c/Users/Johanna/Documents/Studium_Tübingen/2_Semester/computational-workflows-2025/notebooks/day_04/files_dir/fastq4_2.fq]\n",
      "[fastq5_1.fq, /mnt/c/Users/Johanna/Documents/Studium_Tübingen/2_Semester/computational-workflows-2025/notebooks/day_04/files_dir/fastq5_1.fq]\n",
      "[fastq5_2.fq, /mnt/c/Users/Johanna/Documents/Studium_Tübingen/2_Semester/computational-workflows-2025/notebooks/day_04/files_dir/fastq5_2.fq]\n",
      "[fastq_1.fq, /mnt/c/Users/Johanna/Documents/Studium_Tübingen/2_Semester/computational-workflows-2025/notebooks/day_04/files_dir/fastq_1.fq]\n",
      "[fastq_2.fq, /mnt/c/Users/Johanna/Documents/Studium_Tübingen/2_Semester/computational-workflows-2025/notebooks/day_04/files_dir/fastq_2.fq]\n",
      "[SRR.fq, /mnt/c/Users/Johanna/Documents/Studium_Tübingen/2_Semester/computational-workflows-2025/notebooks/day_04/files_dir/SRR.fq]\n",
      "[SRR1_1.fq, /mnt/c/Users/Johanna/Documents/Studium_Tübingen/2_Semester/computational-workflows-2025/notebooks/day_04/files_dir/SRR1_1.fq]\n",
      "[SRR1_2.fq, /mnt/c/Users/Johanna/Documents/Studium_Tübingen/2_Semester/computational-workflows-2025/notebooks/day_04/files_dir/SRR1_2.fq]\n",
      "[SRR2_1.fq, /mnt/c/Users/Johanna/Documents/Studium_Tübingen/2_Semester/computational-workflows-2025/notebooks/day_04/files_dir/SRR2_1.fq]\n",
      "[SRR2_2.fq, /mnt/c/Users/Johanna/Documents/Studium_Tübingen/2_Semester/computational-workflows-2025/notebooks/day_04/files_dir/SRR2_2.fq]\n",
      "[SRR3_1.fq, /mnt/c/Users/Johanna/Documents/Studium_Tübingen/2_Semester/computational-workflows-2025/notebooks/day_04/files_dir/SRR3_1.fq]\n",
      "[SRR3_2.fq, /mnt/c/Users/Johanna/Documents/Studium_Tübingen/2_Semester/computational-workflows-2025/notebooks/day_04/files_dir/SRR3_2.fq]\n",
      "[SRR4_1.fq, /mnt/c/Users/Johanna/Documents/Studium_Tübingen/2_Semester/computational-workflows-2025/notebooks/day_04/files_dir/SRR4_1.fq]\n",
      "[SRR4_2.fq, /mnt/c/Users/Johanna/Documents/Studium_Tübingen/2_Semester/computational-workflows-2025/notebooks/day_04/files_dir/SRR4_2.fq]\n",
      "[SRR5_1.fq, /mnt/c/Users/Johanna/Documents/Studium_Tübingen/2_Semester/computational-workflows-2025/notebooks/day_04/files_dir/SRR5_1.fq]\n",
      "[SRR5_2.fq, /mnt/c/Users/Johanna/Documents/Studium_Tübingen/2_Semester/computational-workflows-2025/notebooks/day_04/files_dir/SRR5_2.fq]\n"
     ]
    }
   ],
   "source": [
    "# Task 7 - Use fromPath to include all fastq files in the \"files_dir\" directory, then use map to return a pair containing the file name and the file path (Hint: include groovy code)\n",
    "!nextflow run basic_channel_operations.nf --step 7"
   ]
  },
  {
   "cell_type": "code",
   "execution_count": 20,
   "metadata": {},
   "outputs": [
    {
     "name": "stdout",
     "output_type": "stream",
     "text": [
      "\u001b[33mNextflow 25.04.7 is available - Please consider updating your version to it\u001b[m\n",
      "\n",
      "\u001b[1m\u001b[38;5;232m\u001b[48;5;43m N E X T F L O W \u001b[0;2m  ~  \u001b[mversion 25.04.0\u001b[m\n",
      "\u001b[K\n",
      "Launching\u001b[35m `basic_channel_operations.nf` \u001b[0;2m[\u001b[0;1;36mboring_waddington\u001b[0;2m] DSL2 - \u001b[36mrevision: \u001b[0;36m747c898cfb\u001b[m\n",
      "\u001b[K\n",
      "[1, 4, a]\n",
      "[2, 5, b]\n",
      "[3, 6, c]\n"
     ]
    }
   ],
   "source": [
    "# Task 8 - Combine the items from the two channels into a single channel\n",
    "!nextflow run basic_channel_operations.nf --step 8"
   ]
  },
  {
   "cell_type": "code",
   "execution_count": 21,
   "metadata": {},
   "outputs": [
    {
     "name": "stdout",
     "output_type": "stream",
     "text": [
      "\u001b[33mNextflow 25.04.7 is available - Please consider updating your version to it\u001b[m\n",
      "\n",
      "\u001b[1m\u001b[38;5;232m\u001b[48;5;43m N E X T F L O W \u001b[0;2m  ~  \u001b[mversion 25.04.0\u001b[m\n",
      "\u001b[K\n",
      "Launching\u001b[35m `basic_channel_operations.nf` \u001b[0;2m[\u001b[0;1;36mnaughty_jennings\u001b[0;2m] DSL2 - \u001b[36mrevision: \u001b[0;36m747c898cfb\u001b[m\n",
      "\u001b[K\n",
      "1\n",
      "2\n",
      "3\n",
      "4\n",
      "5\n",
      "6\n"
     ]
    }
   ],
   "source": [
    "# Task 9 - Flatten the list in the channel\n",
    "!nextflow run basic_channel_operations.nf --step 9"
   ]
  },
  {
   "cell_type": "code",
   "execution_count": 22,
   "metadata": {},
   "outputs": [
    {
     "name": "stdout",
     "output_type": "stream",
     "text": [
      "\u001b[33mNextflow 25.04.7 is available - Please consider updating your version to it\u001b[m\n",
      "\n",
      "\u001b[1m\u001b[38;5;232m\u001b[48;5;43m N E X T F L O W \u001b[0;2m  ~  \u001b[mversion 25.04.0\u001b[m\n",
      "\u001b[K\n",
      "Launching\u001b[35m `basic_channel_operations.nf` \u001b[0;2m[\u001b[0;1;36mfriendly_khorana\u001b[0;2m] DSL2 - \u001b[36mrevision: \u001b[0;36m747c898cfb\u001b[m\n",
      "\u001b[K\n",
      "[1, 2, 3]\n"
     ]
    }
   ],
   "source": [
    "# Task 10 - Collect the items of a channel into a list. What kind of channel is the output channel?\n",
    "!nextflow run basic_channel_operations.nf --step 10"
   ]
  },
  {
   "cell_type": "markdown",
   "metadata": {},
   "source": [
    "What kind of channel is the output channel?\n",
    "The channel has one output, which is the list. "
   ]
  },
  {
   "cell_type": "code",
   "execution_count": 23,
   "metadata": {},
   "outputs": [
    {
     "name": "stdout",
     "output_type": "stream",
     "text": [
      "\u001b[33mNextflow 25.04.7 is available - Please consider updating your version to it\u001b[m\n",
      "\n",
      "\u001b[1m\u001b[38;5;232m\u001b[48;5;43m N E X T F L O W \u001b[0;2m  ~  \u001b[mversion 25.04.0\u001b[m\n",
      "\u001b[K\n",
      "Launching\u001b[35m `basic_channel_operations.nf` \u001b[0;2m[\u001b[0;1;36mdistracted_chandrasekhar\u001b[0;2m] DSL2 - \u001b[36mrevision: \u001b[0;36m747c898cfb\u001b[m\n",
      "\u001b[K\n",
      "[1, [V, f, B]]\n",
      "[3, [M, G, 33]]\n",
      "[2, [O, L, E]]\n"
     ]
    }
   ],
   "source": [
    "# Task 11 -  From the input channel, create lists where each first item in the list of lists is the first item in the output channel, followed by a list of all the items its paired with\n",
    "!nextflow run basic_channel_operations.nf --step 11"
   ]
  },
  {
   "cell_type": "code",
   "execution_count": 29,
   "metadata": {},
   "outputs": [
    {
     "name": "stdout",
     "output_type": "stream",
     "text": [
      "\u001b[33mNextflow 25.04.7 is available - Please consider updating your version to it\u001b[m\n",
      "\n",
      "\u001b[1m\u001b[38;5;232m\u001b[48;5;43m N E X T F L O W \u001b[0;2m  ~  \u001b[mversion 25.04.0\u001b[m\n",
      "\u001b[K\n",
      "Launching\u001b[35m `basic_channel_operations.nf` \u001b[0;2m[\u001b[0;1;36mmighty_brown\u001b[0;2m] DSL2 - \u001b[36mrevision: \u001b[0;36m125a0084d1\u001b[m\n",
      "\u001b[K\n",
      "[1, V, f]\n",
      "[3, M, G]\n",
      "[2, O, L]\n"
     ]
    }
   ],
   "source": [
    "# Task 12 - Create a channel that joins the input to the output channel. What do you notice?\n",
    "!nextflow run basic_channel_operations.nf --step 12"
   ]
  },
  {
   "cell_type": "markdown",
   "metadata": {},
   "source": [
    "Task 12 - What do you notice compared to Task 11?\n",
    "In task 11 every entry is kept and we have multiple values to one number. In task 12 only one tuple of each list with one number is kept. For example in the left list from task 12 the tuple [1, 'B'] is gone. "
   ]
  },
  {
   "cell_type": "code",
   "execution_count": 29,
   "metadata": {},
   "outputs": [
    {
     "name": "stdout",
     "output_type": "stream",
     "text": [
      "\u001b[33mNextflow 25.04.7 is available - Please consider updating your version to it\u001b[m\n",
      "\n",
      "\u001b[1m\u001b[38;5;232m\u001b[48;5;43m N E X T F L O W \u001b[0;2m  ~  \u001b[mversion 25.04.0\u001b[m\n",
      "\u001b[K\n",
      "Launching\u001b[35m `basic_channel_operations.nf` \u001b[0;2m[\u001b[0;1;36mloquacious_mccarthy\u001b[0;2m] DSL2 - \u001b[36mrevision: \u001b[0;36m236bef7b7b\u001b[m\n",
      "\u001b[K\n",
      "Evne numbers:[2, 4, 6, 8, 10]\n",
      "Odd numbers:[1, 3, 5, 7, 9]\n"
     ]
    }
   ],
   "source": [
    "# Task 13 - Split the input channel into two channels, one of all the even numbers and the other of all the odd numbers.\n",
    "#           Write them to stdout including information about which is which\n",
    "!nextflow run basic_channel_operations.nf --step 13 -dump-channels"
   ]
  },
  {
   "cell_type": "code",
   "execution_count": 31,
   "metadata": {},
   "outputs": [
    {
     "name": "stdout",
     "output_type": "stream",
     "text": [
      "\u001b[33mNextflow 25.04.7 is available - Please consider updating your version to it\u001b[m\n",
      "\n",
      "\u001b[1m\u001b[38;5;232m\u001b[48;5;43m N E X T F L O W \u001b[0;2m  ~  \u001b[mversion 25.04.0\u001b[m\n",
      "\u001b[K\n",
      "Launching\u001b[35m `basic_channel_operations.nf` \u001b[0;2m[\u001b[0;1;36mbackstabbing_meninsky\u001b[0;2m] DSL2 - \u001b[36mrevision: \u001b[0;36m4712dd6a68\u001b[m\n",
      "\u001b[K\n",
      "Harry\n",
      "Ron\n",
      "Hermione\n",
      "Albus\n",
      "Snape\n",
      "Hagrid\n",
      "Dobby\n"
     ]
    }
   ],
   "source": [
    "# Task 14 - Nextflow has the concept of maps. Write the names in the maps in this channel to a file called \"names.txt\". Each name should be on a new line. \n",
    "#           Store the file in the \"results\" directory under the name \"names.txt\"\n",
    "\n",
    "!nextflow run basic_channel_operations.nf --step 14\n",
    "\n",
    "!cat results/names.txt\n"
   ]
  },
  {
   "cell_type": "markdown",
   "metadata": {},
   "source": [
    "## Now that we learned about Channels and Operators to deal with them, let's focus on Processes that make use of these channels."
   ]
  },
  {
   "cell_type": "markdown",
   "metadata": {},
   "source": [
    "Please answer the questions in $\\texttt{basics\\_processes.nf}$ and run the code here. "
   ]
  },
  {
   "cell_type": "code",
   "execution_count": 33,
   "metadata": {},
   "outputs": [
    {
     "name": "stdout",
     "output_type": "stream",
     "text": [
      "\u001b[33mNextflow 25.04.7 is available - Please consider updating your version to it\u001b[m\n",
      "\n",
      "\u001b[1m\u001b[38;5;232m\u001b[48;5;43m N E X T F L O W \u001b[0;2m  ~  \u001b[mversion 25.04.0\u001b[m\n",
      "\u001b[K\n",
      "Launching\u001b[35m `basics_processes.nf` \u001b[0;2m[\u001b[0;1;36mdrunk_sanger\u001b[0;2m] DSL2 - \u001b[36mrevision: \u001b[0;36m01c555a957\u001b[m\n",
      "\u001b[K\n",
      "\u001b[2m[\u001b[0;34m-        \u001b[0;2m] \u001b[0;2m\u001b[mhello2 -\u001b[K\n",
      "\u001b[2A\n",
      "\u001b[2mexecutor >  local (1)\u001b[m\u001b[K\n",
      "\u001b[2m[\u001b[0;34m73/e8d3bf\u001b[0;2m] \u001b[0;2m\u001b[mhello2\u001b[2m |\u001b[m 0 of 1\u001b[K\n",
      "\u001b[3A\n",
      "\u001b[2mexecutor >  local (1)\u001b[m\u001b[K\n",
      "\u001b[2m[\u001b[0;34m73/e8d3bf\u001b[0;2m] \u001b[0;2m\u001b[mhello2\u001b[2m |\u001b[m 1 of 1\u001b[32m ✔\u001b[m\u001b[K\n",
      "Hello world!\u001b[K\n",
      "\u001b[K\n",
      "\n"
     ]
    }
   ],
   "source": [
    "# Task 1 - create a process that says Hello World! (add debug true to the process right after initializing to be sable to print the output to the console)\n",
    "!nextflow run basics_processes.nf --step 1"
   ]
  },
  {
   "cell_type": "code",
   "execution_count": 34,
   "metadata": {},
   "outputs": [
    {
     "name": "stdout",
     "output_type": "stream",
     "text": [
      "\u001b[33mNextflow 25.04.7 is available - Please consider updating your version to it\u001b[m\n",
      "\n",
      "\u001b[1m\u001b[38;5;232m\u001b[48;5;43m N E X T F L O W \u001b[0;2m  ~  \u001b[mversion 25.04.0\u001b[m\n",
      "\u001b[K\n",
      "Launching\u001b[35m `basics_processes.nf` \u001b[0;2m[\u001b[0;1;36mstoic_tesla\u001b[0;2m] DSL2 - \u001b[36mrevision: \u001b[0;36m01c555a957\u001b[m\n",
      "\u001b[K\n",
      "\u001b[2m[\u001b[0;34m-        \u001b[0;2m] \u001b[0;2m\u001b[mSAYHELLO_PYTHON -\u001b[K\n",
      "\u001b[2A\n",
      "\u001b[2mexecutor >  local (1)\u001b[m\u001b[K\n",
      "\u001b[2m[\u001b[0;34m91/6c4575\u001b[0;2m] \u001b[0;2m\u001b[mSAYHELLO_PYTHON\u001b[2m |\u001b[m 0 of 1\u001b[K\n",
      "\u001b[3A\n",
      "\u001b[2mexecutor >  local (1)\u001b[m\u001b[K\n",
      "\u001b[2m[\u001b[0;34m91/6c4575\u001b[0;2m] \u001b[0;2m\u001b[mSAYHELLO_PYTHON\u001b[2m |\u001b[m 1 of 1\u001b[32m ✔\u001b[m\u001b[K\n",
      "Hello World!\u001b[K\n",
      "\u001b[K\n",
      "\u001b[5A\n",
      "\u001b[2mexecutor >  local (1)\u001b[m\u001b[K\n",
      "\u001b[2m[\u001b[0;34m91/6c4575\u001b[0;2m] \u001b[0;2m\u001b[mSAYHELLO_PYTHON\u001b[2m |\u001b[m 1 of 1\u001b[32m ✔\u001b[m\u001b[K\n",
      "Hello World!\u001b[K\n",
      "\u001b[K\n",
      "\n"
     ]
    }
   ],
   "source": [
    "# Task 2 - create a process that says Hello World! using Python\n",
    "!nextflow run basics_processes.nf --step 2"
   ]
  },
  {
   "cell_type": "code",
   "execution_count": 35,
   "metadata": {},
   "outputs": [
    {
     "name": "stdout",
     "output_type": "stream",
     "text": [
      "\u001b[33mNextflow 25.04.7 is available - Please consider updating your version to it\u001b[m\n",
      "\n",
      "\u001b[1m\u001b[38;5;232m\u001b[48;5;43m N E X T F L O W \u001b[0;2m  ~  \u001b[mversion 25.04.0\u001b[m\n",
      "\u001b[K\n",
      "Launching\u001b[35m `basics_processes.nf` \u001b[0;2m[\u001b[0;1;36magitated_pare\u001b[0;2m] DSL2 - \u001b[36mrevision: \u001b[0;36m01c555a957\u001b[m\n",
      "\u001b[K\n",
      "\u001b[2m[\u001b[0;34m-        \u001b[0;2m] \u001b[0;2m\u001b[mSAYHELLO_PARAM -\u001b[K\n",
      "\u001b[2A\n",
      "\u001b[2mexecutor >  local (1)\u001b[m\u001b[K\n",
      "\u001b[2m[\u001b[0;34m55/fe17c0\u001b[0;2m] \u001b[0;2m\u001b[mSAYHELLO_PARAM\u001b[33;2m (\u001b[0;33m1\u001b[2m)\u001b[m\u001b[2m |\u001b[m 0 of 1\u001b[K\n",
      "\u001b[3A\n",
      "\u001b[2mexecutor >  local (1)\u001b[m\u001b[K\n",
      "\u001b[2m[\u001b[0;34m55/fe17c0\u001b[0;2m] \u001b[0;2m\u001b[mSAYHELLO_PARAM\u001b[33;2m (\u001b[0;33m1\u001b[2m)\u001b[m\u001b[2m |\u001b[m 1 of 1\u001b[32m ✔\u001b[m\u001b[K\n",
      "Hello world!\u001b[K\n",
      "\u001b[K\n",
      "\u001b[5A\n",
      "\u001b[2mexecutor >  local (1)\u001b[m\u001b[K\n",
      "\u001b[2m[\u001b[0;34m55/fe17c0\u001b[0;2m] \u001b[0;2m\u001b[mSAYHELLO_PARAM\u001b[33;2m (\u001b[0;33m1\u001b[2m)\u001b[m\u001b[2m |\u001b[m 1 of 1\u001b[32m ✔\u001b[m\u001b[K\n",
      "Hello world!\u001b[K\n",
      "\u001b[K\n",
      "\n"
     ]
    }
   ],
   "source": [
    "# Task 3 - create a process that reads in the string \"Hello world!\" from a channel and write it to command line\n",
    "!nextflow run basics_processes.nf --step 3"
   ]
  },
  {
   "cell_type": "code",
   "execution_count": 36,
   "metadata": {},
   "outputs": [
    {
     "name": "stdout",
     "output_type": "stream",
     "text": [
      "\u001b[33mNextflow 25.04.7 is available - Please consider updating your version to it\u001b[m\n",
      "\n",
      "\u001b[1m\u001b[38;5;232m\u001b[48;5;43m N E X T F L O W \u001b[0;2m  ~  \u001b[mversion 25.04.0\u001b[m\n",
      "\u001b[K\n",
      "Launching\u001b[35m `basics_processes.nf` \u001b[0;2m[\u001b[0;1;36minsane_morse\u001b[0;2m] DSL2 - \u001b[36mrevision: \u001b[0;36m01c555a957\u001b[m\n",
      "\u001b[K\n",
      "\u001b[2m[\u001b[0;34m-        \u001b[0;2m] \u001b[0;2m\u001b[mSAYHELLO_FILE -\u001b[K\n",
      "\u001b[2A\n",
      "\u001b[2mexecutor >  local (1)\u001b[m\u001b[K\n",
      "\u001b[2m[\u001b[0;34m8e/a16a70\u001b[0;2m] \u001b[0;2m\u001b[mSAYHELLO_FILE\u001b[33;2m (\u001b[0;33m1\u001b[2m)\u001b[m\u001b[2m |\u001b[m 0 of 1\u001b[K\n",
      "\u001b[3A\n",
      "\u001b[2mexecutor >  local (1)\u001b[m\u001b[K\n",
      "\u001b[2m[\u001b[0;34m8e/a16a70\u001b[0;2m] \u001b[0;2m\u001b[mSAYHELLO_FILE\u001b[33;2m (\u001b[0;33m1\u001b[2m)\u001b[m\u001b[2m |\u001b[m 1 of 1\u001b[32m ✔\u001b[m\u001b[K\n",
      "\n"
     ]
    }
   ],
   "source": [
    "# Task 4 - create a process that reads in the string \"Hello world!\" from a channel and write it to a file. \n",
    "!nextflow run basics_processes.nf --step 4"
   ]
  },
  {
   "cell_type": "markdown",
   "metadata": {},
   "source": [
    "It might be that you created the file but it doesnt appear in the directory. Use the work folder and the output on the command line to find the file."
   ]
  },
  {
   "cell_type": "markdown",
   "metadata": {},
   "source": [
    "I checked in the work directory folder 8e (as this is the hash for this task) and in there I have a file hello.txt, in which I have the sentence saved. "
   ]
  },
  {
   "cell_type": "code",
   "execution_count": 37,
   "metadata": {},
   "outputs": [
    {
     "name": "stdout",
     "output_type": "stream",
     "text": [
      "\u001b[33mNextflow 25.04.7 is available - Please consider updating your version to it\u001b[m\n",
      "\n",
      "\u001b[1m\u001b[38;5;232m\u001b[48;5;43m N E X T F L O W \u001b[0;2m  ~  \u001b[mversion 25.04.0\u001b[m\n",
      "\u001b[K\n",
      "Launching\u001b[35m `basics_processes.nf` \u001b[0;2m[\u001b[0;1;36msick_lumiere\u001b[0;2m] DSL2 - \u001b[36mrevision: \u001b[0;36m33e5f60c09\u001b[m\n",
      "\u001b[K\n",
      "\u001b[2m[\u001b[0;34m-        \u001b[0;2m] \u001b[0;2m\u001b[mUPPERCASE -\u001b[K\n",
      "\u001b[2A\n",
      "\u001b[2mexecutor >  local (1)\u001b[m\u001b[K\n",
      "\u001b[2m[\u001b[0;34mc0/82b726\u001b[0;2m] \u001b[0;2m\u001b[mUPPERCASE\u001b[33;2m (\u001b[0;33m1\u001b[2m)\u001b[m\u001b[2m |\u001b[m 0 of 1\u001b[K\n",
      "/mnt/c/Users/Johanna/Documents/Studium_Tübingen/2_Semester/computational-workflows-2025/notebooks/day_04/work/c0/82b7262446deded79c8cebdddda84e/HELLO.txt\u001b[K\n",
      "\u001b[4A\n",
      "\u001b[2mexecutor >  local (1)\u001b[m\u001b[K\n",
      "\u001b[2m[\u001b[0;34mc0/82b726\u001b[0;2m] \u001b[0;2m\u001b[mUPPERCASE\u001b[33;2m (\u001b[0;33m1\u001b[2m)\u001b[m\u001b[2m |\u001b[m 1 of 1\u001b[32m ✔\u001b[m\u001b[K\n",
      "/mnt/c/Users/Johanna/Documents/Studium_Tübingen/2_Semester/computational-workflows-2025/notebooks/day_04/work/c0/82b7262446deded79c8cebdddda84e/HELLO.txt\u001b[K\n",
      "\n"
     ]
    }
   ],
   "source": [
    "# Task 5 - create a process that reads in a string and converts it to uppercase and saves it to a file as output. View the path to the file in the console\n",
    "!nextflow run basics_processes.nf --step 5"
   ]
  },
  {
   "cell_type": "code",
   "execution_count": 38,
   "metadata": {},
   "outputs": [
    {
     "name": "stdout",
     "output_type": "stream",
     "text": [
      "\u001b[33mNextflow 25.04.7 is available - Please consider updating your version to it\u001b[m\n",
      "\n",
      "\u001b[1m\u001b[38;5;232m\u001b[48;5;43m N E X T F L O W \u001b[0;2m  ~  \u001b[mversion 25.04.0\u001b[m\n",
      "\u001b[K\n",
      "Launching\u001b[35m `basics_processes.nf` \u001b[0;2m[\u001b[0;1;36mscruffy_hodgkin\u001b[0;2m] DSL2 - \u001b[36mrevision: \u001b[0;36m2f03c8a289\u001b[m\n",
      "\u001b[K\n",
      "\u001b[2m[\u001b[0;34m-        \u001b[0;2m] \u001b[0;2m\u001b[mUPPERCASE  -\u001b[K\n",
      "\u001b[2m[\u001b[0;34m-        \u001b[0;2m] \u001b[0;2m\u001b[mPRINTUPPER -\u001b[K\n",
      "\u001b[3A\n",
      "\u001b[2mexecutor >  local (1)\u001b[m\u001b[K\n",
      "\u001b[2m[\u001b[0;34mb8/9d03a8\u001b[0;2m] \u001b[0;2m\u001b[mUPPERCASE\u001b[33;2m (\u001b[0;33m1\u001b[2m)\u001b[m\u001b[2m |\u001b[m 0 of 1\u001b[K\n",
      "\u001b[2m[\u001b[0;34m-        \u001b[0;2m] \u001b[0;2m\u001b[mPRINTUPPER    -\u001b[K\n",
      "\u001b[4A\n",
      "\u001b[2mexecutor >  local (2)\u001b[m\u001b[K\n",
      "\u001b[2m[\u001b[0;34mb8/9d03a8\u001b[0;2m] \u001b[0;2m\u001b[mUPPERCASE\u001b[33;2m (\u001b[0;33m1\u001b[2m)\u001b[m \u001b[2m |\u001b[m 1 of 1\u001b[32m ✔\u001b[m\u001b[K\n",
      "\u001b[2m[\u001b[0;34m5e/8283c3\u001b[0;2m] \u001b[0;2m\u001b[mPRINTUPPER\u001b[33;2m (\u001b[0;33m1\u001b[2m)\u001b[m\u001b[2m |\u001b[m 0 of 1\u001b[K\n",
      "\u001b[4A\n",
      "\u001b[2mexecutor >  local (2)\u001b[m\u001b[K\n",
      "\u001b[2m[\u001b[0;34mb8/9d03a8\u001b[0;2m] \u001b[0;2m\u001b[mUPPERCASE\u001b[33;2m (\u001b[0;33m1\u001b[2m)\u001b[m \u001b[2m |\u001b[m 1 of 1\u001b[32m ✔\u001b[m\u001b[K\n",
      "\u001b[2m[\u001b[0;34m5e/8283c3\u001b[0;2m] \u001b[0;2m\u001b[mPRINTUPPER\u001b[33;2m (\u001b[0;33m1\u001b[2m)\u001b[m\u001b[2m |\u001b[m 1 of 1\u001b[32m ✔\u001b[m\u001b[K\n",
      "HELLO WORLD!\u001b[K\n",
      "\u001b[K\n",
      "\n"
     ]
    }
   ],
   "source": [
    "# Task 6 - add another process that reads in the resulting file from UPPERCASE and print the content to the console (debug true).\n",
    "!nextflow run basics_processes.nf --step 6"
   ]
  },
  {
   "cell_type": "markdown",
   "metadata": {},
   "source": [
    "Compared to all the other runs. What changed in the output here and why?\n",
    "\n",
    "Here are two processes running with hashes. "
   ]
  },
  {
   "cell_type": "code",
   "execution_count": 39,
   "metadata": {},
   "outputs": [
    {
     "name": "stdout",
     "output_type": "stream",
     "text": [
      "\u001b[33mNextflow 25.04.7 is available - Please consider updating your version to it\u001b[m\n",
      "\n",
      "\u001b[1m\u001b[38;5;232m\u001b[48;5;43m N E X T F L O W \u001b[0;2m  ~  \u001b[mversion 25.04.0\u001b[m\n",
      "\u001b[K\n",
      "Launching\u001b[35m `basics_processes.nf` \u001b[0;2m[\u001b[0;1;36mserene_mestorf\u001b[0;2m] DSL2 - \u001b[36mrevision: \u001b[0;36m3e2247fe55\u001b[m\n",
      "\u001b[K\n",
      "\u001b[2m[\u001b[0;34m-        \u001b[0;2m] \u001b[0;2m\u001b[mUPPERCASE -\u001b[K\n",
      "\u001b[2m[\u001b[0;34m-        \u001b[0;2m] \u001b[0;2m\u001b[mZIPPER    -\u001b[K\n",
      "\u001b[3A\n",
      "\u001b[2m[\u001b[0;34m-        \u001b[0;2m] \u001b[0;2m\u001b[mUPPERCASE\u001b[2m |\u001b[m 0 of 1\u001b[K\n",
      "\u001b[2m[\u001b[0;34m-        \u001b[0;2m] \u001b[0;2m\u001b[mZIPPER    -\u001b[K\n",
      "\u001b[3A\n",
      "\u001b[2mexecutor >  local (1)\u001b[m\u001b[K\n",
      "\u001b[2m[\u001b[0;34m7d/b78556\u001b[0;2m] \u001b[0;2m\u001b[mUPPERCASE\u001b[33;2m (\u001b[0;33m1\u001b[2m)\u001b[m\u001b[2m |\u001b[m 0 of 1\u001b[K\n",
      "\u001b[2m[\u001b[0;34m-        \u001b[0;2m] \u001b[0;2m\u001b[mZIPPER        -\u001b[K\n",
      "\u001b[4A\n",
      "\u001b[2mexecutor >  local (2)\u001b[m\u001b[K\n",
      "\u001b[2m[\u001b[0;34m7d/b78556\u001b[0;2m] \u001b[0;2m\u001b[mUPPERCASE\u001b[33;2m (\u001b[0;33m1\u001b[2m)\u001b[m\u001b[2m |\u001b[m 1 of 1\u001b[32m ✔\u001b[m\u001b[K\n",
      "\u001b[2m[\u001b[0;34mc3/7a05b3\u001b[0;2m] \u001b[0;2m\u001b[mZIPPER\u001b[33;2m (\u001b[0;33m1\u001b[2m)\u001b[m   \u001b[2m |\u001b[m 0 of 1\u001b[K\n",
      "\u001b[4A\n",
      "\u001b[2mexecutor >  local (2)\u001b[m\u001b[K\n",
      "\u001b[2m[\u001b[0;34m7d/b78556\u001b[0;2m] \u001b[0;2m\u001b[mUPPERCASE\u001b[33;2m (\u001b[0;33m1\u001b[2m)\u001b[m\u001b[2m |\u001b[m 1 of 1\u001b[32m ✔\u001b[m\u001b[K\n",
      "\u001b[2m[\u001b[0;34mc3/7a05b3\u001b[0;2m] \u001b[0;2m\u001b[mZIPPER\u001b[33;2m (\u001b[0;33m1\u001b[2m)\u001b[m   \u001b[2m |\u001b[m 1 of 1\u001b[32m ✔\u001b[m\u001b[K\n",
      "  adding: HELLO.txt (stored 0%)\u001b[K\n",
      "\u001b[K\n",
      "\n"
     ]
    }
   ],
   "source": [
    "# Task 7 - based on the paramater \"zip\" (see at the head of the file), create a process that zips the file created in the UPPERCASE process either in \"zip\", \"gzip\" OR \"bzip2\" format.\n",
    "#          Print out the path to the zipped file in the console\n",
    "!nextflow run basics_processes.nf --step 7"
   ]
  },
  {
   "cell_type": "code",
   "execution_count": 40,
   "metadata": {},
   "outputs": [
    {
     "name": "stdout",
     "output_type": "stream",
     "text": [
      "\u001b[33mNextflow 25.04.7 is available - Please consider updating your version to it\u001b[m\n",
      "\n",
      "\u001b[1m\u001b[38;5;232m\u001b[48;5;43m N E X T F L O W \u001b[0;2m  ~  \u001b[mversion 25.04.0\u001b[m\n",
      "\u001b[K\n",
      "Launching\u001b[35m `basics_processes.nf` \u001b[0;2m[\u001b[0;1;36mkickass_sinoussi\u001b[0;2m] DSL2 - \u001b[36mrevision: \u001b[0;36m3e2247fe55\u001b[m\n",
      "\u001b[K\n",
      "\u001b[2m[\u001b[0;34m-        \u001b[0;2m] \u001b[0;2m\u001b[mUPPERCASE  -\u001b[K\n",
      "\u001b[2m[\u001b[0;34m-        \u001b[0;2m] \u001b[0;2m\u001b[mZIPPER_ALL -\u001b[K\n",
      "\u001b[3A\n",
      "\u001b[2mexecutor >  local (1)\u001b[m\u001b[K\n",
      "\u001b[2m[\u001b[0;34m0e/004345\u001b[0;2m] \u001b[0;2m\u001b[mUPPERCASE\u001b[33;2m (\u001b[0;33m1\u001b[2m)\u001b[m\u001b[2m |\u001b[m 0 of 1\u001b[K\n",
      "\u001b[2m[\u001b[0;34m-        \u001b[0;2m] \u001b[0;2m\u001b[mZIPPER_ALL    -\u001b[K\n",
      "\u001b[4A\n",
      "\u001b[2mexecutor >  local (1)\u001b[m\u001b[K\n",
      "\u001b[2m[\u001b[0;34m0e/004345\u001b[0;2m] \u001b[0;2m\u001b[mUPPERCASE\u001b[33;2m (\u001b[0;33m1\u001b[2m)\u001b[m\u001b[2m |\u001b[m 1 of 1\u001b[32m ✔\u001b[m\u001b[K\n",
      "\u001b[2m[\u001b[0;34m-        \u001b[0;2m] \u001b[0;2m\u001b[mZIPPER_ALL    -\u001b[K\n",
      "\u001b[4A\n",
      "\u001b[2mexecutor >  local (2)\u001b[m\u001b[K\n",
      "\u001b[2m[\u001b[0;34m0e/004345\u001b[0;2m] \u001b[0;2m\u001b[mUPPERCASE\u001b[33;2m (\u001b[0;33m1\u001b[2m)\u001b[m \u001b[2m |\u001b[m 1 of 1\u001b[32m ✔\u001b[m\u001b[K\n",
      "\u001b[2m[\u001b[0;34me5/bc1180\u001b[0;2m] \u001b[0;2m\u001b[mZIPPER_ALL\u001b[33;2m (\u001b[0;33m1\u001b[2m)\u001b[m\u001b[2m |\u001b[m 0 of 1\u001b[K\n",
      "\u001b[4A\n",
      "\u001b[2mexecutor >  local (2)\u001b[m\u001b[K\n",
      "\u001b[2m[\u001b[0;34m0e/004345\u001b[0;2m] \u001b[0;2m\u001b[mUPPERCASE\u001b[33;2m (\u001b[0;33m1\u001b[2m)\u001b[m \u001b[2m |\u001b[m 1 of 1\u001b[32m ✔\u001b[m\u001b[K\n",
      "\u001b[2m[\u001b[0;34me5/bc1180\u001b[0;2m] \u001b[0;2m\u001b[mZIPPER_ALL\u001b[33;2m (\u001b[0;33m1\u001b[2m)\u001b[m\u001b[2m |\u001b[m 0 of 1\u001b[K\n",
      "\u001b[4A\n",
      "\u001b[2mexecutor >  local (2)\u001b[m\u001b[K\n",
      "\u001b[2m[\u001b[0;34m0e/004345\u001b[0;2m] \u001b[0;2m\u001b[mUPPERCASE\u001b[33;2m (\u001b[0;33m1\u001b[2m)\u001b[m \u001b[2m |\u001b[m 1 of 1\u001b[32m ✔\u001b[m\u001b[K\n",
      "\u001b[2m[\u001b[0;34me5/bc1180\u001b[0;2m] \u001b[0;2m\u001b[mZIPPER_ALL\u001b[33;2m (\u001b[0;33m1\u001b[2m)\u001b[m\u001b[2m |\u001b[m 1 of 1\u001b[32m ✔\u001b[m\u001b[K\n",
      "Created files:\u001b[K\n",
      "/mnt/c/Users/Johanna/Documents/Studium_Tübingen/2_Semester/computational-workflows-2025/notebooks/day_04/work/e5/bc11803e067e84e235609b4cef55bd/HELLO.txt.bz2\u001b[K\n",
      "/mnt/c/Users/Johanna/Documents/Studium_Tübingen/2_Semester/computational-workflows-2025/notebooks/day_04/work/e5/bc11803e067e84e235609b4cef55bd/HELLO.txt.gz\u001b[K\n",
      "/mnt/c/Users/Johanna/Documents/Studium_Tübingen/2_Semester/computational-workflows-2025/notebooks/day_04/work/e5/bc11803e067e84e235609b4cef55bd/HELLO.zip\u001b[K\n",
      "  adding: HELLO.txt (stored 0%)\u001b[K\n",
      "\u001b[K\n",
      "\n"
     ]
    }
   ],
   "source": [
    "# Task 8 - Create a process that zips the file created in the UPPERCASE process in \"zip\", \"gzip\" AND \"bzip2\" format. Print out the paths to the zipped files in the console\n",
    "!nextflow run basics_processes.nf --step 8"
   ]
  },
  {
   "cell_type": "code",
   "execution_count": 42,
   "metadata": {},
   "outputs": [
    {
     "name": "stdout",
     "output_type": "stream",
     "text": [
      "\u001b[33mNextflow 25.04.7 is available - Please consider updating your version to it\u001b[m\n",
      "\n",
      "\u001b[1m\u001b[38;5;232m\u001b[48;5;43m N E X T F L O W \u001b[0;2m  ~  \u001b[mversion 25.04.0\u001b[m\n",
      "\u001b[K\n",
      "Launching\u001b[35m `basics_processes.nf` \u001b[0;2m[\u001b[0;1;36mromantic_turing\u001b[0;2m] DSL2 - \u001b[36mrevision: \u001b[0;36mb18d416197\u001b[m\n",
      "\u001b[K\n",
      "\u001b[2m[\u001b[0;34m-        \u001b[0;2m] \u001b[0;2m\u001b[mWRITETOFILE -\u001b[K\n",
      "\u001b[2A\n",
      "\u001b[2m[\u001b[0;34m-        \u001b[0;2m] \u001b[0;2m\u001b[mWRITETOFILE\u001b[2m |\u001b[m 0 of 1\u001b[K\n",
      "\u001b[2A\n",
      "\u001b[2mexecutor >  local (1)\u001b[m\u001b[K\n",
      "\u001b[2m[\u001b[0;34m49/6634ea\u001b[0;2m] \u001b[0;2m\u001b[mWRITETOFILE\u001b[2m |\u001b[m 1 of 1\u001b[32m ✔\u001b[m\u001b[K\n",
      "/mnt/c/Users/Johanna/Documents/Studium_Tübingen/2_Semester/computational-workflows-2025/notebooks/day_04/work/49/6634eaa2d9cacef4490ce895b63d82/results/names.tsv\u001b[K\n",
      "\u001b[4A\n",
      "\u001b[2mexecutor >  local (1)\u001b[m\u001b[K\n",
      "\u001b[2m[\u001b[0;34m49/6634ea\u001b[0;2m] \u001b[0;2m\u001b[mWRITETOFILE\u001b[2m |\u001b[m 1 of 1\u001b[32m ✔\u001b[m\u001b[K\n",
      "/mnt/c/Users/Johanna/Documents/Studium_Tübingen/2_Semester/computational-workflows-2025/notebooks/day_04/work/49/6634eaa2d9cacef4490ce895b63d82/results/names.tsv\u001b[K\n",
      "\n"
     ]
    }
   ],
   "source": [
    "# Task 9 - Create a process that reads in a list of names and titles from a channel and writes them to a file.\n",
    "#          Store the file in the \"results\" directory under the name \"names.tsv\"\n",
    "!nextflow run basics_processes.nf --step 9"
   ]
  },
  {
   "cell_type": "code",
   "execution_count": null,
   "metadata": {},
   "outputs": [],
   "source": [
    "import pandas as pd\n",
    "\n",
    "df = pd.read_csv(\"results/names.tsv\", sep=\"\\t\")\n",
    "df"
   ]
  },
  {
   "cell_type": "markdown",
   "metadata": {},
   "source": [
    "## Now, let's try some more advanced Operators"
   ]
  },
  {
   "cell_type": "markdown",
   "metadata": {},
   "source": [
    "Please answer the questions in $\\texttt{advanced\\_channel\\_operations.nf}$ and run the code here. "
   ]
  },
  {
   "cell_type": "markdown",
   "metadata": {},
   "source": [
    "To come closer to actual pipelines, we introduce the concept of \"meta-maps\" which you can imagine as dictionaries that are passed with data via channels containing crucial metadata on the sample. \n",
    "\n",
    "Also, we will come back to samplesheets which you should remember from last week."
   ]
  },
  {
   "cell_type": "code",
   "execution_count": 43,
   "metadata": {},
   "outputs": [
    {
     "name": "stdout",
     "output_type": "stream",
     "text": [
      "\u001b[33mNextflow 25.04.7 is available - Please consider updating your version to it\u001b[m\n",
      "\n",
      "\u001b[1m\u001b[38;5;232m\u001b[48;5;43m N E X T F L O W \u001b[0;2m  ~  \u001b[mversion 25.04.0\u001b[m\n",
      "\u001b[K\n",
      "Launching\u001b[35m `advanced_channel_operations.nf` \u001b[0;2m[\u001b[0;1;36mjolly_edison\u001b[0;2m] DSL2 - \u001b[36mrevision: \u001b[0;36mc9f9b572b7\u001b[m\n",
      "\u001b[K\n",
      "[sample:CONTROL_REP1, fastq_1:fq_1_R1.fastq.gz, fastq_2:fq_1_R2.fastq.gz, strandedness:auto]\n",
      "[sample:CONTROL_REP2, fastq_1:fq_2_R1.fastq.gz, fastq_2:fq_2_R2.fastq.gz, strandedness:forward]\n",
      "[sample:CONTROL_REP3, fastq_1:fq_3_R1.fastq.gz, fastq_2:fq_3_R2.fastq.gz, strandedness:reverse]\n",
      "[sample:CONTROL_REP1, fastq_1:fq_4_R1.fastq.gz, fastq_2:fq_4_R2.fastq.gz, strandedness:auto]\n"
     ]
    }
   ],
   "source": [
    "# Task 1 - Read in the samplesheet.\n",
    "\n",
    "!nextflow run advanced_channel_operations.nf --step 1"
   ]
  },
  {
   "cell_type": "code",
   "execution_count": 44,
   "metadata": {},
   "outputs": [
    {
     "name": "stdout",
     "output_type": "stream",
     "text": [
      "\u001b[33mNextflow 25.04.7 is available - Please consider updating your version to it\u001b[m\n",
      "\n",
      "\u001b[1m\u001b[38;5;232m\u001b[48;5;43m N E X T F L O W \u001b[0;2m  ~  \u001b[mversion 25.04.0\u001b[m\n",
      "\u001b[K\n",
      "Launching\u001b[35m `advanced_channel_operations.nf` \u001b[0;2m[\u001b[0;1;36mgigantic_austin\u001b[0;2m] DSL2 - \u001b[36mrevision: \u001b[0;36mc9f9b572b7\u001b[m\n",
      "\u001b[K\n",
      "[[sample:CONTROL_REP1, strandedness:auto], [fq_1_R1.fastq.gz, fq_1_R2.fastq.gz]]\n",
      "[[sample:CONTROL_REP2, strandedness:forward], [fq_2_R1.fastq.gz, fq_2_R2.fastq.gz]]\n",
      "[[sample:CONTROL_REP3, strandedness:reverse], [fq_3_R1.fastq.gz, fq_3_R2.fastq.gz]]\n",
      "[[sample:CONTROL_REP1, strandedness:auto], [fq_4_R1.fastq.gz, fq_4_R2.fastq.gz]]\n"
     ]
    }
   ],
   "source": [
    "# Task 2 - Read in the samplesheet and create a meta-map with all metadata and another list with the filenames ([[metadata_1 : metadata_1, ...], [fastq_1, fastq_2]]).\n",
    "#          Set the output to a new channel \"in_ch\" and view the channel. YOU WILL NEED TO COPY AND PASTE THIS CODE INTO SOME OF THE FOLLOWING TASKS (sorry for that).\n",
    "\n",
    "!nextflow run advanced_channel_operations.nf --step 2"
   ]
  },
  {
   "cell_type": "code",
   "execution_count": 45,
   "metadata": {},
   "outputs": [
    {
     "name": "stdout",
     "output_type": "stream",
     "text": [
      "\u001b[33mNextflow 25.04.7 is available - Please consider updating your version to it\u001b[m\n",
      "\n",
      "\u001b[1m\u001b[38;5;232m\u001b[48;5;43m N E X T F L O W \u001b[0;2m  ~  \u001b[mversion 25.04.0\u001b[m\n",
      "\u001b[K\n",
      "Launching\u001b[35m `advanced_channel_operations.nf` \u001b[0;2m[\u001b[0;1;36mcondescending_lovelace\u001b[0;2m] DSL2 - \u001b[36mrevision: \u001b[0;36mc9f9b572b7\u001b[m\n",
      "\u001b[K\n",
      "Forward:\n",
      "[[sample:CONTROL_REP2, strandedness:forward], [fq_2_R1.fastq.gz, fq_2_R2.fastq.gz]]\n",
      "Auto:\n",
      "[[sample:CONTROL_REP1, strandedness:auto], [fq_1_R1.fastq.gz, fq_1_R2.fastq.gz], [sample:CONTROL_REP1, strandedness:auto], [fq_4_R1.fastq.gz, fq_4_R2.fastq.gz]]\n",
      "Reverse:\n",
      "[[sample:CONTROL_REP3, strandedness:reverse], [fq_3_R1.fastq.gz, fq_3_R2.fastq.gz]]\n"
     ]
    }
   ],
   "source": [
    "# Task 3 - Now we assume that we want to handle different \"strandedness\" values differently. \n",
    "#          Split the channel into the right amount of channels and write them all to stdout so that we can understand which is which.\n",
    "\n",
    "!nextflow run advanced_channel_operations.nf --step 3 -dump-channels"
   ]
  },
  {
   "cell_type": "code",
   "execution_count": 46,
   "metadata": {},
   "outputs": [
    {
     "name": "stdout",
     "output_type": "stream",
     "text": [
      "\u001b[33mNextflow 25.04.7 is available - Please consider updating your version to it\u001b[m\n",
      "\n",
      "\u001b[1m\u001b[38;5;232m\u001b[48;5;43m N E X T F L O W \u001b[0;2m  ~  \u001b[mversion 25.04.0\u001b[m\n",
      "\u001b[K\n",
      "Launching\u001b[35m `advanced_channel_operations.nf` \u001b[0;2m[\u001b[0;1;36mshrivelled_kilby\u001b[0;2m] DSL2 - \u001b[36mrevision: \u001b[0;36mc9f9b572b7\u001b[m\n",
      "\u001b[K\n",
      "[[sample:CONTROL_REP1, strandedness:auto], [[fq_1_R1.fastq.gz, fq_1_R2.fastq.gz], [fq_4_R1.fastq.gz, fq_4_R2.fastq.gz]]]\n",
      "[[sample:CONTROL_REP2, strandedness:forward], [[fq_2_R1.fastq.gz, fq_2_R2.fastq.gz]]]\n",
      "[[sample:CONTROL_REP3, strandedness:reverse], [[fq_3_R1.fastq.gz, fq_3_R2.fastq.gz]]]\n"
     ]
    }
   ],
   "source": [
    "# Task 4 - Group together all files with the same sample-id and strandedness value.\n",
    "\n",
    "!nextflow run advanced_channel_operations.nf --step 4"
   ]
  },
  {
   "cell_type": "markdown",
   "metadata": {},
   "source": [
    "## It's finally time to link processes and channels with each other"
   ]
  },
  {
   "cell_type": "markdown",
   "metadata": {},
   "source": [
    "Please go to the file $\\texttt{link\\_p\\_c.nf}$"
   ]
  },
  {
   "cell_type": "code",
   "execution_count": 50,
   "metadata": {},
   "outputs": [
    {
     "name": "stdout",
     "output_type": "stream",
     "text": [
      "\u001b[33mNextflow 25.04.7 is available - Please consider updating your version to it\u001b[m\n",
      "\n",
      "\u001b[1m\u001b[38;5;232m\u001b[48;5;43m N E X T F L O W \u001b[0;2m  ~  \u001b[mversion 25.04.0\u001b[m\n",
      "\u001b[K\n",
      "Launching\u001b[35m `link_p_c.nf` \u001b[0;2m[\u001b[0;1;36msilly_koch\u001b[0;2m] DSL2 - \u001b[36mrevision: \u001b[0;36m33a75d0629\u001b[m\n",
      "\u001b[K\n",
      "\u001b[2m[\u001b[0;34m-        \u001b[0;2m] \u001b[0;2m\u001b[mSPLITLETTERS   -\u001b[K\n",
      "\u001b[2m[\u001b[0;34m-        \u001b[0;2m] \u001b[0;2m\u001b[mCONVERTTOUPPER -\u001b[K\n",
      "\u001b[3A\n",
      "\u001b[2mexecutor >  local (2)\u001b[m\u001b[K\n",
      "\u001b[2m[\u001b[0;34md5/312e7e\u001b[0;2m] \u001b[0;2m\u001b[mSPLITLETTERS\u001b[33;2m (\u001b[0;33m2\u001b[2m)\u001b[m\u001b[2m |\u001b[m 0 of 2\u001b[K\n",
      "\u001b[2m[\u001b[0;34m-        \u001b[0;2m] \u001b[0;2m\u001b[mCONVERTTOUPPER   -\u001b[K\n",
      "\u001b[4A\n",
      "\u001b[2mexecutor >  local (2)\u001b[m\u001b[K\n",
      "\u001b[2m[\u001b[0;34m6b/5ce0bf\u001b[0;2m] \u001b[0;2m\u001b[mSPLITLETTERS\u001b[33;2m (\u001b[0;33m1\u001b[2m)\u001b[m\u001b[2m |\u001b[m 2 of 2\u001b[32m ✔\u001b[m\u001b[K\n",
      "\u001b[2m[\u001b[0;34m-        \u001b[0;2m] \u001b[0;2m\u001b[mCONVERTTOUPPER   -\u001b[K\n",
      "\u001b[4A\n",
      "\u001b[2mexecutor >  local (4)\u001b[m\u001b[K\n",
      "\u001b[2m[\u001b[0;34m6b/5ce0bf\u001b[0;2m] \u001b[0;2m\u001b[mSPLITLETTERS\u001b[33;2m (\u001b[0;33m1\u001b[2m)\u001b[m  \u001b[2m |\u001b[m 2 of 2\u001b[32m ✔\u001b[m\u001b[K\n",
      "\u001b[2m[\u001b[0;34m70/856957\u001b[0;2m] \u001b[0;2m\u001b[mCONVERTTOUPPER\u001b[33;2m (\u001b[0;33m2\u001b[2m)\u001b[m\u001b[2m |\u001b[m 0 of 2\u001b[K\n",
      "\u001b[4A\n",
      "\u001b[2mexecutor >  local (4)\u001b[m\u001b[K\n",
      "\u001b[2m[\u001b[0;34m6b/5ce0bf\u001b[0;2m] \u001b[0;2m\u001b[mSPLITLETTERS\u001b[33;2m (\u001b[0;33m1\u001b[2m)\u001b[m  \u001b[2m |\u001b[m 2 of 2\u001b[32m ✔\u001b[m\u001b[K\n",
      "\u001b[2m[\u001b[0;34m70/856957\u001b[0;2m] \u001b[0;2m\u001b[mCONVERTTOUPPER\u001b[33;2m (\u001b[0;33m2\u001b[2m)\u001b[m\u001b[2m |\u001b[m 2 of 2\u001b[32m ✔\u001b[m\u001b[K\n",
      "HELL\u001b[K\n",
      "O WO\u001b[K\n",
      "RLD\u001b[K\n",
      "\u001b[K\n",
      "COM\u001b[K\n",
      "PUT\u001b[K\n",
      "ATI\u001b[K\n",
      "ONA\u001b[K\n",
      "L W\u001b[K\n",
      "ORK\u001b[K\n",
      "FLO\u001b[K\n",
      "WS\u001b[K\n",
      "\u001b[K\n",
      "\u001b[17A\n",
      "\u001b[2mexecutor >  local (4)\u001b[m\u001b[K\n",
      "\u001b[2m[\u001b[0;34m6b/5ce0bf\u001b[0;2m] \u001b[0;2m\u001b[mSPLITLETTERS\u001b[33;2m (\u001b[0;33m1\u001b[2m)\u001b[m  \u001b[2m |\u001b[m 2 of 2\u001b[32m ✔\u001b[m\u001b[K\n",
      "\u001b[2m[\u001b[0;34m70/856957\u001b[0;2m] \u001b[0;2m\u001b[mCONVERTTOUPPER\u001b[33;2m (\u001b[0;33m2\u001b[2m)\u001b[m\u001b[2m |\u001b[m 2 of 2\u001b[32m ✔\u001b[m\u001b[K\n",
      "HELL\u001b[K\n",
      "O WO\u001b[K\n",
      "RLD\u001b[K\n",
      "\u001b[K\n",
      "COM\u001b[K\n",
      "PUT\u001b[K\n",
      "ATI\u001b[K\n",
      "ONA\u001b[K\n",
      "L W\u001b[K\n",
      "ORK\u001b[K\n",
      "FLO\u001b[K\n",
      "WS\u001b[K\n",
      "\u001b[K\n",
      "\n"
     ]
    }
   ],
   "source": [
    "!nextflow run link_p_c.nf"
   ]
  },
  {
   "cell_type": "markdown",
   "metadata": {},
   "source": [
    "### Give a list with the paths to the chunk files"
   ]
  },
  {
   "cell_type": "code",
   "execution_count": 51,
   "metadata": {},
   "outputs": [
    {
     "name": "stdout",
     "output_type": "stream",
     "text": [
      "\u001b[33mNextflow 25.04.7 is available - Please consider updating your version to it\u001b[m\n",
      "\n",
      "\u001b[1m\u001b[38;5;232m\u001b[48;5;43m N E X T F L O W \u001b[0;2m  ~  \u001b[mversion 25.04.0\u001b[m\n",
      "\u001b[K\n",
      "Launching\u001b[35m `link_p_c.nf` \u001b[0;2m[\u001b[0;1;36mbig_kalman\u001b[0;2m] DSL2 - \u001b[36mrevision: \u001b[0;36m33a75d0629\u001b[m\n",
      "\u001b[K\n",
      "\u001b[2m[\u001b[0;34m-        \u001b[0;2m] \u001b[0;2m\u001b[mSPLITLETTERS -\u001b[K\n",
      "\u001b[2A\n",
      "\u001b[2m[\u001b[0;34m6b/5ce0bf\u001b[0;2m] \u001b[0;2m\u001b[mSPLITLETTERS\u001b[33;2m (\u001b[0;33m1\u001b[2m)\u001b[m\u001b[2m |\u001b[m 2 of 2\u001b[2m, cached: 2\u001b[0;32m ✔\u001b[m\u001b[K\n",
      "Created files:\u001b[K\n",
      "/mnt/c/Users/Johanna/Documents/Studium_Tübingen/2_Semester/computational-workflows-2025/notebooks/day_04/work/6b/5ce0bff78f11d30a6f4c5b2b78034a/results/h_w_1.txt\u001b[K\n",
      "/mnt/c/Users/Johanna/Documents/Studium_Tübingen/2_Semester/computational-workflows-2025/notebooks/day_04/work/6b/5ce0bff78f11d30a6f4c5b2b78034a/results/h_w_2.txt\u001b[K\n",
      "/mnt/c/Users/Johanna/Documents/Studium_Tübingen/2_Semester/computational-workflows-2025/notebooks/day_04/work/6b/5ce0bff78f11d30a6f4c5b2b78034a/results/h_w_3.txt\u001b[K\n",
      "Created files:\u001b[K\n",
      "/mnt/c/Users/Johanna/Documents/Studium_Tübingen/2_Semester/computational-workflows-2025/notebooks/day_04/work/d5/312e7e2289a1eee96ebb3dd66349ad/results/c_w_1.txt\u001b[K\n",
      "/mnt/c/Users/Johanna/Documents/Studium_Tübingen/2_Semester/computational-workflows-2025/notebooks/day_04/work/d5/312e7e2289a1eee96ebb3dd66349ad/results/c_w_2.txt\u001b[K\n",
      "/mnt/c/Users/Johanna/Documents/Studium_Tübingen/2_Semester/computational-workflows-2025/notebooks/day_04/work/d5/312e7e2289a1eee96ebb3dd66349ad/results/c_w_3.txt\u001b[K\n",
      "/mnt/c/Users/Johanna/Documents/Studium_Tübingen/2_Semester/computational-workflows-2025/notebooks/day_04/work/d5/312e7e2289a1eee96ebb3dd66349ad/results/c_w_4.txt\u001b[K\n",
      "/mnt/c/Users/Johanna/Documents/Studium_Tübingen/2_Semester/computational-workflows-2025/notebooks/day_04/work/d5/312e7e2289a1eee96ebb3dd66349ad/results/c_w_5.txt\u001b[K\n",
      "/mnt/c/Users/Johanna/Documents/Studium_Tübingen/2_Semester/computational-workflows-2025/notebooks/day_04/work/d5/312e7e2289a1eee96ebb3dd66349ad/results/c_w_6.txt\u001b[K\n",
      "/mnt/c/Users/Johanna/Documents/Studium_Tübingen/2_Semester/computational-workflows-2025/notebooks/day_04/work/d5/312e7e2289a1eee96ebb3dd66349ad/results/c_w_7.txt\u001b[K\n",
      "/mnt/c/Users/Johanna/Documents/Studium_Tübingen/2_Semester/computational-workflows-2025/notebooks/day_04/work/d5/312e7e2289a1eee96ebb3dd66349ad/results/c_w_8.txt\u001b[K\n",
      "\u001b[15A\n",
      "\u001b[2m[\u001b[0;34m6b/5ce0bf\u001b[0;2m] \u001b[0;2m\u001b[mSPLITLETTERS\u001b[33;2m (\u001b[0;33m1\u001b[2m)\u001b[m\u001b[2m |\u001b[m 2 of 2\u001b[2m, cached: 2\u001b[0;32m ✔\u001b[m\u001b[K\n",
      "Created files:\u001b[K\n",
      "/mnt/c/Users/Johanna/Documents/Studium_Tübingen/2_Semester/computational-workflows-2025/notebooks/day_04/work/6b/5ce0bff78f11d30a6f4c5b2b78034a/results/h_w_1.txt\u001b[K\n",
      "/mnt/c/Users/Johanna/Documents/Studium_Tübingen/2_Semester/computational-workflows-2025/notebooks/day_04/work/6b/5ce0bff78f11d30a6f4c5b2b78034a/results/h_w_2.txt\u001b[K\n",
      "/mnt/c/Users/Johanna/Documents/Studium_Tübingen/2_Semester/computational-workflows-2025/notebooks/day_04/work/6b/5ce0bff78f11d30a6f4c5b2b78034a/results/h_w_3.txt\u001b[K\n",
      "Created files:\u001b[K\n",
      "/mnt/c/Users/Johanna/Documents/Studium_Tübingen/2_Semester/computational-workflows-2025/notebooks/day_04/work/d5/312e7e2289a1eee96ebb3dd66349ad/results/c_w_1.txt\u001b[K\n",
      "/mnt/c/Users/Johanna/Documents/Studium_Tübingen/2_Semester/computational-workflows-2025/notebooks/day_04/work/d5/312e7e2289a1eee96ebb3dd66349ad/results/c_w_2.txt\u001b[K\n",
      "/mnt/c/Users/Johanna/Documents/Studium_Tübingen/2_Semester/computational-workflows-2025/notebooks/day_04/work/d5/312e7e2289a1eee96ebb3dd66349ad/results/c_w_3.txt\u001b[K\n",
      "/mnt/c/Users/Johanna/Documents/Studium_Tübingen/2_Semester/computational-workflows-2025/notebooks/day_04/work/d5/312e7e2289a1eee96ebb3dd66349ad/results/c_w_4.txt\u001b[K\n",
      "/mnt/c/Users/Johanna/Documents/Studium_Tübingen/2_Semester/computational-workflows-2025/notebooks/day_04/work/d5/312e7e2289a1eee96ebb3dd66349ad/results/c_w_5.txt\u001b[K\n",
      "/mnt/c/Users/Johanna/Documents/Studium_Tübingen/2_Semester/computational-workflows-2025/notebooks/day_04/work/d5/312e7e2289a1eee96ebb3dd66349ad/results/c_w_6.txt\u001b[K\n",
      "/mnt/c/Users/Johanna/Documents/Studium_Tübingen/2_Semester/computational-workflows-2025/notebooks/day_04/work/d5/312e7e2289a1eee96ebb3dd66349ad/results/c_w_7.txt\u001b[K\n",
      "/mnt/c/Users/Johanna/Documents/Studium_Tübingen/2_Semester/computational-workflows-2025/notebooks/day_04/work/d5/312e7e2289a1eee96ebb3dd66349ad/results/c_w_8.txt\u001b[K\n",
      "\n"
     ]
    }
   ],
   "source": [
    "!nextflow run link_p_c.nf --path true -resume"
   ]
  },
  {
   "cell_type": "markdown",
   "metadata": {},
   "source": [
    "### Why was CONVERTTOUPPER run so often?"
   ]
  },
  {
   "cell_type": "markdown",
   "metadata": {},
   "source": [
    "Because we first splitted and then converted. "
   ]
  }
 ],
 "metadata": {
  "kernelspec": {
   "display_name": "Python (nfprak)",
   "language": "python",
   "name": "nfprak"
  },
  "language_info": {
   "codemirror_mode": {
    "name": "ipython",
    "version": 3
   },
   "file_extension": ".py",
   "mimetype": "text/x-python",
   "name": "python",
   "nbconvert_exporter": "python",
   "pygments_lexer": "ipython3",
   "version": "3.13.7"
  }
 },
 "nbformat": 4,
 "nbformat_minor": 2
}
